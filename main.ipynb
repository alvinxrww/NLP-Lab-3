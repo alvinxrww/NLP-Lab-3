{
 "cells": [
  {
   "cell_type": "markdown",
   "metadata": {},
   "source": [
    "# Edit Distance for Spelling Correction"
   ]
  },
  {
   "cell_type": "code",
   "execution_count": null,
   "metadata": {},
   "outputs": [],
   "source": [
    "# TODO: isi nama dan NPM Anda\n",
    "\n",
    "nama = ''\n",
    "npm = ''"
   ]
  },
  {
   "cell_type": "code",
   "execution_count": 12,
   "metadata": {},
   "outputs": [],
   "source": [
    "# Import library yang diperlukan\n",
    "import random\n",
    "\n",
    "from utils import load_json, format_report\n",
    "from trie_structure.levenshtein_trie import LevenshteinTrie\n",
    "from trie_structure.damerau_levenshtein_trie import DamerauLevenshteinTrie\n",
    "from dict_structure.levenshtein_dict import LevenshteinDict\n",
    "from dict_structure.damerau_levenshtein_dict import DamerauLevenshteinDict\n",
    "from performance import Performance"
   ]
  },
  {
   "cell_type": "markdown",
   "metadata": {},
   "source": [
    "# 1. Dataset"
   ]
  },
  {
   "cell_type": "code",
   "execution_count": 2,
   "metadata": {},
   "outputs": [],
   "source": [
    "# TODO: Definisikan path dari dataset KBBI dan non word error (typo)\n",
    "\n",
    "KBBI_PATH = ''\n",
    "TYPO_PATH = ''"
   ]
  },
  {
   "cell_type": "code",
   "execution_count": 3,
   "metadata": {},
   "outputs": [],
   "source": [
    "typo_dataset = load_json(TYPO_PATH)\n",
    "\n",
    "# random sampling berdasarkan NPM\n",
    "random.seed(int(npm))\n",
    "sample_size = 5\n",
    "typo_sample_keys = random.sample(list(typo_dataset.keys()), sample_size)\n",
    "typo_sample_dataset = {key: typo_dataset[key] for key in typo_sample_keys}"
   ]
  },
  {
   "cell_type": "markdown",
   "metadata": {},
   "source": [
    "# 2. Algoritma Edit Distance"
   ]
  },
  {
   "cell_type": "code",
   "execution_count": 4,
   "metadata": {},
   "outputs": [],
   "source": [
    "# Trie\n",
    "lev_trie = LevenshteinTrie(dict_path=KBBI_PATH)\n",
    "dalev_trie = DamerauLevenshteinTrie(dict_path=KBBI_PATH)\n",
    "\n",
    "# Dictionary\n",
    "lev_dict = LevenshteinDict(dict_path=KBBI_PATH)\n",
    "dalev_dict = DamerauLevenshteinDict(dict_path=KBBI_PATH)"
   ]
  },
  {
   "cell_type": "markdown",
   "metadata": {},
   "source": [
    "# 3. Performa"
   ]
  },
  {
   "cell_type": "code",
   "execution_count": 5,
   "metadata": {},
   "outputs": [],
   "source": [
    "# TODO: hitung akurasi keempat algoritma edit distance \n",
    "# menggunakan dataset \"typo_sample_dataset\" dan\n",
    "# fungsi yang telah dibuat di performance.py"
   ]
  },
  {
   "cell_type": "code",
   "execution_count": null,
   "metadata": {},
   "outputs": [],
   "source": [
    "# TODO: cetak performa sesuai format yang telah disediakan di file utils.py"
   ]
  }
 ],
 "metadata": {
  "kernelspec": {
   "display_name": "base",
   "language": "python",
   "name": "python3"
  },
  "language_info": {
   "codemirror_mode": {
    "name": "ipython",
    "version": 3
   },
   "file_extension": ".py",
   "mimetype": "text/x-python",
   "name": "python",
   "nbconvert_exporter": "python",
   "pygments_lexer": "ipython3",
   "version": "3.12.3"
  }
 },
 "nbformat": 4,
 "nbformat_minor": 2
}
